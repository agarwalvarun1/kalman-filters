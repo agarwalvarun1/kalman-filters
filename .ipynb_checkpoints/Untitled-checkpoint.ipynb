{
 "cells": [
  {
   "cell_type": "markdown",
   "id": "97b6cb9c",
   "metadata": {},
   "source": [
    "# Improved kalman Filter by using LSTM to predict the initial covariation matrix"
   ]
  },
  {
   "cell_type": "markdown",
   "id": "e152a7f2",
   "metadata": {},
   "source": [
    "## Steps\n",
    "### 1. Initialize the state\n",
    "To initialize the state first we need to define the state variables. In this Example we will be using the example of a car moving in 1D.\n",
    "For a car moving in 1D, the variables which we would want to moniter are its position and velocity\n",
    "we will use newtons laws of motions to do that.\n",
    "\n",
    "#### Newton's laws state that:\n",
    "\n",
    "$$x(t) = x(t - ∆t) + v(t-∆t)∆t + \\frac{(a)(∆t)^2}{2}$$ \n",
    "\n",
    "$$v(t) = v(t-∆t) + (a)∆t$$\n",
    "\n",
    "if we take the State variable $${X(t)} = \\begin{bmatrix} {x(t)} \\\\ {v(t)} \\end{bmatrix}$$\n",
    "\n",
    "then the above equations can be written as $$\\begin{bmatrix} {x(t)} \\\\ {v(t)} \\end{bmatrix} = \\begin{bmatrix} {x(t-∆t)} \\\\ {v(t - ∆t)} \\end{bmatrix}\\begin{bmatrix} {1} & {∆t} \\\\ {0} & {1} \\end{bmatrix} + {a}\\begin{bmatrix}\\frac{(∆t)^2}{2}\\\\ {∆t}\\end{bmatrix}$$\n",
    "\n",
    "$$\\implies {X(t)} = {X(t-∆t)}{F} + {a}{B}$$\n",
    "\n",
    "where,\n",
    "\n",
    "${F} = \\begin{bmatrix} {1} & {∆t} \\\\ {0} & {1} \\end{bmatrix}$ is the prediction matrix,\n",
    "\n",
    "${B} = \\begin{bmatrix}\\frac{(∆t)^2}{2}\\\\ {∆t}\\end{bmatrix}$ is the control matrix.\n",
    "\n",
    "In most cases matix B is not required as it requires one to analyse the variation in the data before hand... but since we are working on a general model we include that\n",
    "\n",
    "this equation is part of the kalman equations and are fixed and only the prediction and control matrix change\n",
    "\n"
   ]
  },
  {
   "cell_type": "markdown",
   "id": "231b42ed",
   "metadata": {},
   "source": [
    "### 2. Define the covariance matrix\n"
   ]
  },
  {
   "cell_type": "markdown",
   "id": "36d5e2af",
   "metadata": {},
   "source": [
    "A covariance matrix (also known as an auto-covariance matrix, dispersion matrix, variance matrix, or variance–covariance matrix) is a square matrix that gives the covariance between each pair of state variables.\n",
    "Every state variable has a mean value μ, and a variance σ2\n",
    "\n"
   ]
  },
  {
   "cell_type": "code",
   "execution_count": null,
   "id": "eea93942",
   "metadata": {},
   "outputs": [],
   "source": []
  }
 ],
 "metadata": {
  "kernelspec": {
   "display_name": "Python 3 (ipykernel)",
   "language": "python",
   "name": "python3"
  },
  "language_info": {
   "codemirror_mode": {
    "name": "ipython",
    "version": 3
   },
   "file_extension": ".py",
   "mimetype": "text/x-python",
   "name": "python",
   "nbconvert_exporter": "python",
   "pygments_lexer": "ipython3",
   "version": "3.9.6"
  }
 },
 "nbformat": 4,
 "nbformat_minor": 5
}
